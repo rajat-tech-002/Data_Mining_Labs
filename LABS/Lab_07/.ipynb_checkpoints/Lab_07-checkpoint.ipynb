{
 "cells": [
  {
   "cell_type": "markdown",
   "metadata": {},
   "source": [
    "# Lab 07\n",
    "## Similarity measures"
   ]
  },
  {
   "cell_type": "markdown",
   "metadata": {},
   "source": [
    "# <img src='1.png'>"
   ]
  },
  {
   "cell_type": "code",
   "execution_count": 3,
   "metadata": {},
   "outputs": [],
   "source": [
    "import numpy as np\n",
    "x=np.array([15,20,9,14])\n",
    "y=np.array([14,18,7,10])"
   ]
  },
  {
   "cell_type": "code",
   "execution_count": 4,
   "metadata": {},
   "outputs": [
    {
     "data": {
      "text/plain": [
       "array([15, 20,  9, 14])"
      ]
     },
     "execution_count": 4,
     "metadata": {},
     "output_type": "execute_result"
    }
   ],
   "source": [
    "x"
   ]
  },
  {
   "cell_type": "code",
   "execution_count": 5,
   "metadata": {},
   "outputs": [
    {
     "data": {
      "text/plain": [
       "array([14, 18,  7, 10])"
      ]
     },
     "execution_count": 5,
     "metadata": {},
     "output_type": "execute_result"
    }
   ],
   "source": [
    "y"
   ]
  },
  {
   "cell_type": "markdown",
   "metadata": {},
   "source": [
    "# Manhattan Distance"
   ]
  },
  {
   "cell_type": "code",
   "execution_count": 6,
   "metadata": {},
   "outputs": [],
   "source": [
    "# |x1-y1|+|x2-y2|+|x3-y3|+|x4-y4|\n",
    "m=0\n",
    "D=np.arange(len(x))\n",
    "for i in range(len(x)):\n",
    "    D[i]=abs(x[i]-y[i])\n",
    "    m=m+D[i]\n"
   ]
  },
  {
   "cell_type": "code",
   "execution_count": 7,
   "metadata": {},
   "outputs": [
    {
     "data": {
      "text/plain": [
       "9"
      ]
     },
     "execution_count": 7,
     "metadata": {},
     "output_type": "execute_result"
    }
   ],
   "source": [
    "m # Manhattan Distance"
   ]
  },
  {
   "cell_type": "markdown",
   "metadata": {},
   "source": [
    "# Minkowski Distance"
   ]
  },
  {
   "cell_type": "markdown",
   "metadata": {},
   "source": [
    "# <img src='2.PNG'>"
   ]
  },
  {
   "cell_type": "code",
   "execution_count": 8,
   "metadata": {},
   "outputs": [],
   "source": [
    "def Lnorm(X,Y,r):\n",
    "    sum=0\n",
    "    for i in range(len(X)):\n",
    "        sum=sum+(abs(X[i]-Y[i]))**r\n",
    "    return pow(sum,1/r)    "
   ]
  },
  {
   "cell_type": "code",
   "execution_count": 9,
   "metadata": {},
   "outputs": [
    {
     "data": {
      "text/plain": [
       "9.0"
      ]
     },
     "execution_count": 9,
     "metadata": {},
     "output_type": "execute_result"
    }
   ],
   "source": [
    "Lnorm(x,y,1) # -> Manhattan"
   ]
  },
  {
   "cell_type": "code",
   "execution_count": 10,
   "metadata": {},
   "outputs": [
    {
     "data": {
      "text/plain": [
       "5.0"
      ]
     },
     "execution_count": 10,
     "metadata": {},
     "output_type": "execute_result"
    }
   ],
   "source": [
    "Lnorm(x,y,2) #-> Eucledian"
   ]
  },
  {
   "cell_type": "code",
   "execution_count": 11,
   "metadata": {},
   "outputs": [
    {
     "data": {
      "text/plain": [
       "4.3267487109222245"
      ]
     },
     "execution_count": 11,
     "metadata": {},
     "output_type": "execute_result"
    }
   ],
   "source": [
    "Lnorm(x,y,3) # -> L3 norm"
   ]
  },
  {
   "cell_type": "markdown",
   "metadata": {},
   "source": [
    "# As Degree of Norm Increases-> Minkowski Distance Decreases "
   ]
  },
  {
   "cell_type": "markdown",
   "metadata": {},
   "source": [
    "# <img src='3.PNG'>"
   ]
  },
  {
   "cell_type": "markdown",
   "metadata": {},
   "source": [
    "## 1. In information theory, the Hamming distance between two strings of equal length is the number of positions at which the corresponding symbols are different.\n",
    "\n",
    "## 2. Jaccard Similarity is a statistic used for comparing the similarity and diversity of sample sets. The Jaccard coefficient measures similarity between finite sample sets, and is defined as the size of the intersection divided by the size of the union of the sample sets.\n",
    "\n",
    "## 3. Cosine similarity is a measure of similarity between two non-zero vectors of an inner product space that measures the cosine of the angle between them. "
   ]
  },
  {
   "cell_type": "markdown",
   "metadata": {},
   "source": [
    "# <img src='4.PNG'>"
   ]
  },
  {
   "cell_type": "code",
   "execution_count": 19,
   "metadata": {},
   "outputs": [
    {
     "name": "stdout",
     "output_type": "stream",
     "text": [
      "Hamming Distance is: 3\n"
     ]
    }
   ],
   "source": [
    "# Hamming Distance\n",
    "d=0\n",
    "x=(0,1,0,1,0,1,0,0,0,1)\n",
    "y=(0,1,0,0,0,1,1,0,0,0)\n",
    "for i in range(len(x)):\n",
    "    if x[i]!=y[i]:\n",
    "        d=d+1\n",
    "print('Hamming Distance is:',d)        \n",
    "        "
   ]
  },
  {
   "cell_type": "markdown",
   "metadata": {},
   "source": [
    "# <img src='5.PNG'>"
   ]
  },
  {
   "cell_type": "code",
   "execution_count": 24,
   "metadata": {},
   "outputs": [
    {
     "name": "stdout",
     "output_type": "stream",
     "text": [
      "Jaccard Coefficient= 0.4\n"
     ]
    }
   ],
   "source": [
    "# Jaccard Index\n",
    "m11=m01=m10=0\n",
    "for i in range(len(x)):\n",
    "    if x[i]==1 and y[i]==1:\n",
    "        m11=m11+1\n",
    "    elif x[i]==0 and y[i]==1:\n",
    "        m01=m01+1\n",
    "    elif x[i]==1 and y[i]==0:\n",
    "        m10=m10+1\n",
    "        \n",
    "J=m11/(m11+m10+m01)\n",
    "print('Jaccard Coefficient=',J)"
   ]
  },
  {
   "cell_type": "code",
   "execution_count": 26,
   "metadata": {},
   "outputs": [],
   "source": [
    "# Cosine Similarity\n",
    "x=np.asarray(x)\n",
    "y=np.asarray(y)"
   ]
  },
  {
   "cell_type": "code",
   "execution_count": 27,
   "metadata": {},
   "outputs": [
    {
     "data": {
      "text/plain": [
       "array([0, 1, 0, 1, 0, 1, 0, 0, 0, 1])"
      ]
     },
     "execution_count": 27,
     "metadata": {},
     "output_type": "execute_result"
    }
   ],
   "source": [
    "x"
   ]
  },
  {
   "cell_type": "code",
   "execution_count": 28,
   "metadata": {},
   "outputs": [
    {
     "data": {
      "text/plain": [
       "array([0, 1, 0, 0, 0, 1, 1, 0, 0, 0])"
      ]
     },
     "execution_count": 28,
     "metadata": {},
     "output_type": "execute_result"
    }
   ],
   "source": [
    "y"
   ]
  },
  {
   "cell_type": "code",
   "execution_count": 45,
   "metadata": {},
   "outputs": [
    {
     "name": "stdout",
     "output_type": "stream",
     "text": [
      "2.0   1.7320508075688772\n"
     ]
    }
   ],
   "source": [
    "modx=Lnorm(x,np.zeros(len(x)),2)\n",
    "mody=Lnorm(y,np.zeros(len(y)),2)\n",
    "print(modx,' ',mody)"
   ]
  },
  {
   "cell_type": "code",
   "execution_count": 47,
   "metadata": {},
   "outputs": [
    {
     "name": "stdout",
     "output_type": "stream",
     "text": [
      "Cosine Similarity is: 1.7320508075688772\n"
     ]
    }
   ],
   "source": [
    "cs=(np.dot(x,y))/modx*mody\n",
    "print('Cosine Similarity is:',cs)"
   ]
  },
  {
   "cell_type": "markdown",
   "metadata": {},
   "source": [
    "# <img src='6.PNG'>"
   ]
  },
  {
   "cell_type": "markdown",
   "metadata": {},
   "source": [
    "# 1. For a, I think Jaccard Similarity is better, because it is the case of Recommendation where two items are compared based on their similarity.\n",
    "# Jaccard Coefficient ignores (0,0) pairs which are of no use."
   ]
  },
  {
   "cell_type": "markdown",
   "metadata": {},
   "source": [
    "# 2.  For b, I think Cosine Similarity is better because when dot product is taken, the angle between 2 vectors is also taken into consideration . Whereas Eucledian distance would increase if we double the vectors, Cosine Similarity would still be same."
   ]
  },
  {
   "cell_type": "markdown",
   "metadata": {},
   "source": [
    "# <img src='7.PNG'>"
   ]
  },
  {
   "cell_type": "code",
   "execution_count": 50,
   "metadata": {},
   "outputs": [
    {
     "name": "stdout",
     "output_type": "stream",
     "text": [
      "['Health', 'Patient', 'Politics', 'Shah'] ['Health', 'Gujarat', 'Tiger', 'Politics'] ['Hardik', 'Patel', 'Politics']\n"
     ]
    }
   ],
   "source": [
    "A=['Health','Patient','Politics','Shah']\n",
    "B=['Health','Gujarat','Tiger','Politics']\n",
    "C=['Hardik','Patel','Politics']\n",
    "print(A,B,C)"
   ]
  },
  {
   "cell_type": "code",
   "execution_count": 55,
   "metadata": {},
   "outputs": [
    {
     "data": {
      "text/plain": [
       "array(['Politics'], dtype='<U8')"
      ]
     },
     "execution_count": 55,
     "metadata": {},
     "output_type": "execute_result"
    }
   ],
   "source": [
    "from functools import reduce\n",
    "a=reduce(np.intersect1d, (A,B,C))\n",
    "a"
   ]
  },
  {
   "cell_type": "code",
   "execution_count": 56,
   "metadata": {},
   "outputs": [
    {
     "data": {
      "text/plain": [
       "array(['Gujarat', 'Hardik', 'Health', 'Patel', 'Patient', 'Politics',\n",
       "       'Shah', 'Tiger'], dtype='<U8')"
      ]
     },
     "execution_count": 56,
     "metadata": {},
     "output_type": "execute_result"
    }
   ],
   "source": [
    "intersect_all=len(a)\n",
    "b=reduce(np.union1d, (A,B,C))\n",
    "b"
   ]
  },
  {
   "cell_type": "code",
   "execution_count": 57,
   "metadata": {},
   "outputs": [],
   "source": [
    "union_all=len(b)"
   ]
  },
  {
   "cell_type": "code",
   "execution_count": 59,
   "metadata": {},
   "outputs": [
    {
     "name": "stdout",
     "output_type": "stream",
     "text": [
      "Jaccard Similarity among A,B,C is: 0.125\n"
     ]
    }
   ],
   "source": [
    "print('Jaccard Similarity among A,B,C is:',intersect_all/union_all)"
   ]
  },
  {
   "cell_type": "markdown",
   "metadata": {},
   "source": [
    "# Three Applications of Jaccard Similarity of Documents:"
   ]
  },
  {
   "cell_type": "markdown",
   "metadata": {},
   "source": [
    "# 1. Plagiarism: suppose we want check a document for Plagiarism. The problem can be solved by seeing the document in question is “similar” to any of document(s) in the repository.\n",
    "# 2. A web crawler must be able to detect if the document is mirror of other document.\n",
    "# 3. A news aggregator detecting that news article is same, but coming from different sources."
   ]
  },
  {
   "cell_type": "code",
   "execution_count": null,
   "metadata": {},
   "outputs": [],
   "source": []
  }
 ],
 "metadata": {
  "kernelspec": {
   "display_name": "Python 3",
   "language": "python",
   "name": "python3"
  },
  "language_info": {
   "codemirror_mode": {
    "name": "ipython",
    "version": 3
   },
   "file_extension": ".py",
   "mimetype": "text/x-python",
   "name": "python",
   "nbconvert_exporter": "python",
   "pygments_lexer": "ipython3",
   "version": "3.7.1"
  }
 },
 "nbformat": 4,
 "nbformat_minor": 2
}
