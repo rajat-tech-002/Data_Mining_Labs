{
 "cells": [
  {
   "cell_type": "code",
   "execution_count": 1,
   "metadata": {},
   "outputs": [],
   "source": [
    "from random import seed\n",
    "from random import random\n",
    "n_hidden=5\n",
    "n_inputs=10"
   ]
  },
  {
   "cell_type": "code",
   "execution_count": 2,
   "metadata": {},
   "outputs": [],
   "source": [
    "seed(1)\n",
    "hidden_layer = [{'weights':[random() for i in range(n_inputs + 1)]} for i in range(n_hidden)]"
   ]
  },
  {
   "cell_type": "code",
   "execution_count": 3,
   "metadata": {},
   "outputs": [
    {
     "data": {
      "text/plain": [
       "[{'weights': [0.13436424411240122,\n",
       "   0.8474337369372327,\n",
       "   0.763774618976614,\n",
       "   0.2550690257394217,\n",
       "   0.49543508709194095,\n",
       "   0.4494910647887381,\n",
       "   0.651592972722763,\n",
       "   0.7887233511355132,\n",
       "   0.0938595867742349,\n",
       "   0.02834747652200631,\n",
       "   0.8357651039198697]},\n",
       " {'weights': [0.43276706790505337,\n",
       "   0.762280082457942,\n",
       "   0.0021060533511106927,\n",
       "   0.4453871940548014,\n",
       "   0.7215400323407826,\n",
       "   0.22876222127045265,\n",
       "   0.9452706955539223,\n",
       "   0.9014274576114836,\n",
       "   0.030589983033553536,\n",
       "   0.0254458609934608,\n",
       "   0.5414124727934966]},\n",
       " {'weights': [0.9391491627785106,\n",
       "   0.38120423768821243,\n",
       "   0.21659939713061338,\n",
       "   0.4221165755827173,\n",
       "   0.029040787574867943,\n",
       "   0.22169166627303505,\n",
       "   0.43788759365057206,\n",
       "   0.49581224138185065,\n",
       "   0.23308445025757263,\n",
       "   0.2308665415409843,\n",
       "   0.2187810373376886]},\n",
       " {'weights': [0.4596034657377336,\n",
       "   0.28978161459048557,\n",
       "   0.021489705265908876,\n",
       "   0.8375779756625729,\n",
       "   0.5564543226524334,\n",
       "   0.6422943629324456,\n",
       "   0.1859062658947177,\n",
       "   0.9925434121760651,\n",
       "   0.8599465287952899,\n",
       "   0.12088995980580641,\n",
       "   0.3326951853601291]},\n",
       " {'weights': [0.7214844075832684,\n",
       "   0.7111917696952796,\n",
       "   0.9364405867994596,\n",
       "   0.4221069999614152,\n",
       "   0.830035693274327,\n",
       "   0.670305566414071,\n",
       "   0.3033685109329176,\n",
       "   0.5875806061435594,\n",
       "   0.8824790008318577,\n",
       "   0.8461974184283128,\n",
       "   0.5052838205796004]}]"
      ]
     },
     "execution_count": 3,
     "metadata": {},
     "output_type": "execute_result"
    }
   ],
   "source": [
    "hidden_layer"
   ]
  },
  {
   "cell_type": "code",
   "execution_count": 23,
   "metadata": {},
   "outputs": [
    {
     "data": {
      "text/plain": [
       "[1, 2, 30]"
      ]
     },
     "execution_count": 23,
     "metadata": {},
     "output_type": "execute_result"
    }
   ],
   "source": [
    "a=[1,2,30]\n",
    "a"
   ]
  },
  {
   "cell_type": "code",
   "execution_count": 24,
   "metadata": {},
   "outputs": [
    {
     "data": {
      "text/plain": [
       "30"
      ]
     },
     "execution_count": 24,
     "metadata": {},
     "output_type": "execute_result"
    }
   ],
   "source": [
    "b=a[-1]\n",
    "b"
   ]
  },
  {
   "cell_type": "code",
   "execution_count": null,
   "metadata": {},
   "outputs": [],
   "source": []
  }
 ],
 "metadata": {
  "kernelspec": {
   "display_name": "Python 3",
   "language": "python",
   "name": "python3"
  },
  "language_info": {
   "codemirror_mode": {
    "name": "ipython",
    "version": 3
   },
   "file_extension": ".py",
   "mimetype": "text/x-python",
   "name": "python",
   "nbconvert_exporter": "python",
   "pygments_lexer": "ipython3",
   "version": "3.7.0"
  }
 },
 "nbformat": 4,
 "nbformat_minor": 2
}
