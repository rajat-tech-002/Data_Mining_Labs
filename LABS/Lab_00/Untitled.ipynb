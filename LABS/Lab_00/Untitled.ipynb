{
 "cells": [
  {
   "cell_type": "code",
   "execution_count": 6,
   "metadata": {},
   "outputs": [
    {
     "name": "stdout",
     "output_type": "stream",
     "text": [
      "     outlook temperature humidity windy play\n",
      "0      sunny         hot     high     f   no\n",
      "1      sunny         hot     high     t   no\n",
      "2   overcast         hot     high     f  yes\n",
      "3      rainy        mild     high     f  yes\n",
      "4      rainy        cool   normal     f  yes\n",
      "5      rainy        cool   normal     t   no\n",
      "6   overcast        cool   normal     t  yes\n",
      "7      sunny        mild     high     f   no\n",
      "8      sunny        cool   normal     f  yes\n",
      "9      rainy        mild   normal     f  yes\n",
      "10     sunny        mild   normal     t  yes\n",
      "11  overcast        mild     high     t  yes\n",
      "12  overcast         hot   normal     f  yes\n",
      "13     rainy        mild     high     t   no\n",
      "(14, 5)\n"
     ]
    }
   ],
   "source": [
    "import pandas as pd\n",
    "file='test.csv'\n",
    "data=pd.read_csv(file)\n",
    "print(data)\n",
    "print(data.shape)"
   ]
  },
  {
   "cell_type": "code",
   "execution_count": 10,
   "metadata": {},
   "outputs": [
    {
     "name": "stdout",
     "output_type": "stream",
     "text": [
      "play      no  yes\n",
      "outlook          \n",
      "overcast   0    4\n",
      "rainy      2    3\n",
      "sunny      3    2\n",
      "\n",
      "\n",
      "******************************\n",
      "play         no  yes\n",
      "temperature         \n",
      "cool          1    3\n",
      "hot           2    2\n",
      "mild          2    4\n",
      "\n",
      "\n",
      "******************************\n",
      "play      no  yes\n",
      "humidity         \n",
      "high       4    3\n",
      "normal     1    6\n",
      "\n",
      "\n",
      "******************************\n",
      "play   no  yes\n",
      "windy         \n",
      "f       2    6\n",
      "t       3    3\n",
      "\n",
      "\n",
      "******************************\n"
     ]
    }
   ],
   "source": [
    "for i in range(data.shape[1]-1):\n",
    "    result=pd.crosstab(data.iloc[:,i],data.iloc[:,4])\n",
    "    print(result)\n",
    "    print(\"\\n\")\n",
    "    print(\"******************************\")\n"
   ]
  },
  {
   "cell_type": "code",
   "execution_count": null,
   "metadata": {},
   "outputs": [],
   "source": []
  }
 ],
 "metadata": {
  "kernelspec": {
   "display_name": "Python 3",
   "language": "python",
   "name": "python3"
  },
  "language_info": {
   "codemirror_mode": {
    "name": "ipython",
    "version": 3
   },
   "file_extension": ".py",
   "mimetype": "text/x-python",
   "name": "python",
   "nbconvert_exporter": "python",
   "pygments_lexer": "ipython3",
   "version": "3.7.1"
  }
 },
 "nbformat": 4,
 "nbformat_minor": 2
}
